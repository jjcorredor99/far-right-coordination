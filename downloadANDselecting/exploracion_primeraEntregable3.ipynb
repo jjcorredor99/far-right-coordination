{
 "cells": [
  {
   "cell_type": "code",
   "execution_count": 1,
   "id": "65180837",
   "metadata": {},
   "outputs": [],
   "source": [
    "import glob\n",
    "import pickle \n",
    "import pandas as pd"
   ]
  },
  {
   "cell_type": "code",
   "execution_count": 10,
   "id": "fc9fcdcc",
   "metadata": {},
   "outputs": [],
   "source": [
    "import numpy as np\n",
    "import random\n",
    "from matplotlib import pyplot as plt\n",
    "\n",
    "from matplotlib.ticker import FormatStrFormatter"
   ]
  },
  {
   "cell_type": "code",
   "execution_count": 2,
   "id": "a59546e9",
   "metadata": {},
   "outputs": [
    {
     "data": {
      "text/plain": [
       "102"
      ]
     },
     "execution_count": 2,
     "metadata": {},
     "output_type": "execute_result"
    }
   ],
   "source": [
    "files=glob.glob(\"./pickle/*.pkl\")\n",
    "len(files)"
   ]
  },
  {
   "cell_type": "code",
   "execution_count": 3,
   "id": "f73751fd",
   "metadata": {},
   "outputs": [],
   "source": [
    "df= pd.read_excel(\"./bases/informacion_politicos_V2.xlsx\")"
   ]
  },
  {
   "cell_type": "code",
   "execution_count": 4,
   "id": "41d1a8ef",
   "metadata": {},
   "outputs": [
    {
     "data": {
      "text/plain": [
       "96    5012943\n",
       "Name: followers_count, dtype: int64"
      ]
     },
     "execution_count": 4,
     "metadata": {},
     "output_type": "execute_result"
    }
   ],
   "source": [
    "df[df[\"screen_name\"]==\"AlvaroUribeVel\"][\"followers_count\"]"
   ]
  },
  {
   "cell_type": "code",
   "execution_count": 5,
   "id": "0bc2f654",
   "metadata": {},
   "outputs": [],
   "source": [
    "u=[]\n",
    "for i in files:\n",
    "    i=i.split(\"e\\\\\")[1]\n",
    "    i=i.split(\"_foll\")[0]\n",
    "    u.append(i)"
   ]
  },
  {
   "cell_type": "code",
   "execution_count": 6,
   "id": "a47aa94c",
   "metadata": {},
   "outputs": [
    {
     "name": "stdout",
     "output_type": "stream",
     "text": [
      "0\n"
     ]
    },
    {
     "data": {
      "text/plain": [
       "set()"
      ]
     },
     "execution_count": 6,
     "metadata": {},
     "output_type": "execute_result"
    }
   ],
   "source": [
    "u=set(u)\n",
    "n=set(list(df[\"screen_name\"]))\n",
    "\n",
    "print(len(n-u))\n",
    "n-u"
   ]
  },
  {
   "cell_type": "code",
   "execution_count": 7,
   "id": "c5354ba2",
   "metadata": {},
   "outputs": [],
   "source": [
    "objects = []\n",
    "\n",
    "for i in files: \n",
    "    \n",
    "    pickle_file = open(i, \"rb\")\n",
    "\n",
    "    \n",
    "    while True:\n",
    "\n",
    "        try:\n",
    "\n",
    "            objects.append(pickle.load(pickle_file))\n",
    "\n",
    "        except EOFError:\n",
    "\n",
    "            break\n",
    "\n",
    "    pickle_file.close()\n"
   ]
  },
  {
   "cell_type": "code",
   "execution_count": 8,
   "id": "90de191b",
   "metadata": {},
   "outputs": [],
   "source": [
    "numero_per_usuario={}\n",
    "\n",
    "for i in objects: \n",
    "    \n",
    "    llave=list(i.keys())[0]\n",
    "    \n",
    "    usuarios=i[llave]\n",
    "    \n",
    "    for usuario in usuarios:\n",
    "        if usuario in numero_per_usuario.keys():\n",
    "            \n",
    "            numero_per_usuario[usuario]+=1\n",
    "        else:\n",
    "            numero_per_usuario[usuario]=1\n",
    "            \n",
    "    "
   ]
  },
  {
   "cell_type": "code",
   "execution_count": 9,
   "id": "9afad547",
   "metadata": {},
   "outputs": [],
   "source": [
    "data=[]\n",
    "for i in list(numero_per_usuario.keys()):\n",
    "    data.append(numero_per_usuario[i])"
   ]
  },
  {
   "cell_type": "code",
   "execution_count": 11,
   "id": "ce4f5bbf",
   "metadata": {},
   "outputs": [
    {
     "data": {
      "text/plain": [
       "7152304"
      ]
     },
     "execution_count": 11,
     "metadata": {},
     "output_type": "execute_result"
    }
   ],
   "source": [
    "len(data)"
   ]
  },
  {
   "cell_type": "code",
   "execution_count": 12,
   "id": "25b127aa",
   "metadata": {},
   "outputs": [
    {
     "name": "stdout",
     "output_type": "stream",
     "text": [
      "usuario que sigue más políticos:  98\n"
     ]
    }
   ],
   "source": [
    "x=0\n",
    "\n",
    "for i in data: \n",
    "    if i>x:\n",
    "        x=i\n",
    "        \n",
    "print(\"usuario que sigue más políticos: \", x)"
   ]
  },
  {
   "cell_type": "code",
   "execution_count": 13,
   "id": "1dc6e549",
   "metadata": {},
   "outputs": [
    {
     "data": {
      "image/png": "[encoded data removed]",
      "text/plain": [
       "<Figure size 1440x720 with 1 Axes>"
      ]
     },
     "metadata": {},
     "output_type": "display_data"
    }
   ],
   "source": [
    "bins = range(min(data), max(data) + 2, 2) # fixed bin size\n",
    "weights=np.ones(len(data)) / len(data)\n",
    "\n",
    "\n",
    "fig, ax = plt.subplots(figsize=(20,10),facecolor='white',edgecolor='blue')\n",
    "\n",
    "ax.hist(data, bins=bins,weights=weights)\n",
    "\n",
    "\n",
    "from matplotlib import pyplot as plt\n",
    "import numpy as np\n",
    "  \n",
    "ax.set_title(\"¿cuántos politicos siguen? (bin_size=2)\")\n",
    "  \n",
    "# adding labels\n",
    "ax.set_xlabel('número de politicos que siguen')\n",
    "ax.set_ylabel('porcentaje de personas')\n",
    "\n",
    "\n",
    "\n",
    "rects = ax.patches\n",
    "labels = [ \"{:.2f}\".format(rect.get_height())  for rect in rects]\n",
    "  \n",
    "for rect, label in zip(rects, labels):\n",
    "    height = rect.get_height()\n",
    "    ax.text(rect.get_x() + rect.get_width() / 2, height+0.01, label,\n",
    "            ha='center', va='bottom')\n",
    "# Show plot\n",
    "plt.show()"
   ]
  },
  {
   "cell_type": "code",
   "execution_count": 14,
   "id": "c40cab9f",
   "metadata": {},
   "outputs": [],
   "source": [
    "import statistics as stats"
   ]
  },
  {
   "cell_type": "code",
   "execution_count": 15,
   "id": "79f601a3",
   "metadata": {},
   "outputs": [
    {
     "name": "stdout",
     "output_type": "stream",
     "text": [
      "2.0415573778743186 3.4923516086733324 5.533908986547651\n"
     ]
    }
   ],
   "source": [
    "st=stats.stdev(data)\n",
    "me=stats.mean(data)\n",
    "print(me,st,me+st)"
   ]
  },
  {
   "cell_type": "code",
   "execution_count": 16,
   "id": "70a2b903",
   "metadata": {},
   "outputs": [
    {
     "name": "stdout",
     "output_type": "stream",
     "text": [
      "389683 0.05448\n"
     ]
    }
   ],
   "source": [
    "x=0\n",
    "for i in data: \n",
    "    if i>=(st+me):\n",
    "        x+=1\n",
    "        \n",
    "y=(x/len(data))\n",
    "   \n",
    "p=\"{:.5f}\".format(y)\n",
    "print(x, p)"
   ]
  },
  {
   "cell_type": "code",
   "execution_count": 44,
   "id": "d63c199c",
   "metadata": {},
   "outputs": [
    {
     "data": {
      "text/plain": [
       "836720000"
      ]
     },
     "execution_count": 44,
     "metadata": {},
     "output_type": "execute_result"
    }
   ],
   "source": [
    "261475*3200"
   ]
  },
  {
   "cell_type": "code",
   "execution_count": 20,
   "id": "6142bcd4",
   "metadata": {},
   "outputs": [
    {
     "data": {
      "text/plain": [
       "389683"
      ]
     },
     "execution_count": 20,
     "metadata": {},
     "output_type": "execute_result"
    }
   ],
   "source": [
    "x=0\n",
    "lista_ids=[]\n",
    "for i in list(numero_per_usuario.keys()):\n",
    "    \n",
    "    if numero_per_usuario[i]>st+me:\n",
    "        lista_ids.append(i)\n",
    "        \n",
    "        \n",
    "\n",
    "len(lista_ids)"
   ]
  },
  {
   "cell_type": "code",
   "execution_count": 21,
   "id": "c025264e",
   "metadata": {},
   "outputs": [],
   "source": [
    "file = open(\"./pickle/mayores_mean.pkl\",\"wb\")\n",
    "\n",
    "pickle.dump(lista_ids,file)\n",
    "\n",
    "file.close()"
   ]
  },
  {
   "cell_type": "code",
   "execution_count": 22,
   "id": "118415d3",
   "metadata": {},
   "outputs": [
    {
     "data": {
      "text/plain": [
       "[304615687,\n",
       " 277115894,\n",
       " 1037387982452473861,\n",
       " 1197689969457991680,\n",
       " 1361470380066680835,\n",
       " 145506002,\n",
       " 89299740,\n",
       " 220178177,\n",
       " 2284484219,\n",
       " 299725755,\n",
       " 1375399834899914752,\n",
       " 1370011544763924480,\n",
       " 973632534725656576,\n",
       " 185892161,\n",
       " 1289945860315455488,\n",
       " 116750771,\n",
       " 363668032,\n",
       " 1375128842424172546,\n",
       " 1183874792,\n",
       " 126480343]"
      ]
     },
     "execution_count": 22,
     "metadata": {},
     "output_type": "execute_result"
    }
   ],
   "source": [
    "lista_ids[768:788]"
   ]
  }
 ],
 "metadata": {
  "kernelspec": {
   "display_name": "Python 3",
   "language": "python",
   "name": "python3"
  },
  "language_info": {
   "codemirror_mode": {
    "name": "ipython",
    "version": 3
   },
   "file_extension": ".py",
   "mimetype": "text/x-python",
   "name": "python",
   "nbconvert_exporter": "python",
   "pygments_lexer": "ipython3",
   "version": "3.8.8"
  }
 },
 "nbformat": 4,
 "nbformat_minor": 5
}
