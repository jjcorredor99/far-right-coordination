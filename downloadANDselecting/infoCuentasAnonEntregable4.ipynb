{
 "cells": [
  {
   "cell_type": "code",
   "execution_count": 1,
   "metadata": {},
   "outputs": [],
   "source": [
    "import tweepy\n",
    "import pandas as pd\n",
    "import pickle"
   ]
  },
  {
   "cell_type": "code",
   "execution_count": 2,
   "metadata": {},
   "outputs": [],
   "source": [
    "APP_KEY3 = \"xxxxxxxxxxxx\"\n",
    "APP_SECRET3 = \"xxxxxxxxxxxx\"\n",
    "OAUTH_TOKEN3 = \"xxxxxxxxxx\"\n",
    "OAUTH_TOKEN_SECRET3 =\"xxxxxxxxxx\""
   ]
  },
  {
   "cell_type": "code",
   "execution_count": 5,
   "metadata": {},
   "outputs": [],
   "source": [
    "auth = tweepy.OAuthHandler(APP_KEY3, APP_SECRET3)\n",
    "auth.set_access_token(OAUTH_TOKEN3, OAUTH_TOKEN_SECRET3)\n",
    "api3 = tweepy.API(auth,wait_on_rate_limit=True,wait_on_rate_limit_notify=True)"
   ]
  },
  {
   "cell_type": "code",
   "execution_count": 6,
   "metadata": {},
   "outputs": [],
   "source": [
    "usuarios=[]\n",
    "\n",
    "pickle_file = open(\"./pickle/mayores_mean.pkl\", \"rb\")\n",
    "\n",
    "\n",
    "while True:\n",
    "\n",
    "    try:\n",
    "\n",
    "        usuarios=pickle.load(pickle_file)\n",
    "\n",
    "    except EOFError:\n",
    "\n",
    "        break\n",
    "\n",
    "pickle_file.close()"
   ]
  },
  {
   "cell_type": "code",
   "execution_count": 40,
   "metadata": {},
   "outputs": [],
   "source": [
    "informacion=[]\n",
    "exceptions2=[]\n",
    "id_archivo=2600 #numero del ultimo archivo que guardó "
   ]
  },
  {
   "cell_type": "code",
   "execution_count": 8,
   "metadata": {},
   "outputs": [
    {
     "data": {
      "text/plain": [
       "389683"
      ]
     },
     "execution_count": 8,
     "metadata": {},
     "output_type": "execute_result"
    }
   ],
   "source": [
    "len(usuarios)"
   ]
  },
  {
   "cell_type": "code",
   "execution_count": 41,
   "metadata": {},
   "outputs": [
    {
     "name": "stderr",
     "output_type": "stream",
     "text": [
      "Rate limit reached. Sleeping for: 170\n",
      "Rate limit reached. Sleeping for: 373\n",
      "Rate limit reached. Sleeping for: 400\n",
      "Rate limit reached. Sleeping for: 275\n",
      "Rate limit reached. Sleeping for: 212\n"
     ]
    },
    {
     "name": "stdout",
     "output_type": "stream",
     "text": [
      "5000\n"
     ]
    },
    {
     "name": "stderr",
     "output_type": "stream",
     "text": [
      "Rate limit reached. Sleeping for: 188\n",
      "Rate limit reached. Sleeping for: 250\n",
      "Rate limit reached. Sleeping for: 396\n",
      "Rate limit reached. Sleeping for: 361\n",
      "Rate limit reached. Sleeping for: 362\n",
      "Rate limit reached. Sleeping for: 312\n"
     ]
    },
    {
     "name": "stdout",
     "output_type": "stream",
     "text": [
      "10000\n"
     ]
    },
    {
     "name": "stderr",
     "output_type": "stream",
     "text": [
      "Rate limit reached. Sleeping for: 302\n",
      "Rate limit reached. Sleeping for: 222\n",
      "Rate limit reached. Sleeping for: 378\n",
      "Rate limit reached. Sleeping for: 334\n",
      "Rate limit reached. Sleeping for: 343\n"
     ]
    },
    {
     "name": "stdout",
     "output_type": "stream",
     "text": [
      "15000\n"
     ]
    },
    {
     "name": "stderr",
     "output_type": "stream",
     "text": [
      "Rate limit reached. Sleeping for: 343\n",
      "Rate limit reached. Sleeping for: 407\n",
      "Rate limit reached. Sleeping for: 333\n",
      "Rate limit reached. Sleeping for: 356\n",
      "Rate limit reached. Sleeping for: 264\n",
      "Rate limit reached. Sleeping for: 340\n"
     ]
    },
    {
     "name": "stdout",
     "output_type": "stream",
     "text": [
      "20000\n"
     ]
    },
    {
     "name": "stderr",
     "output_type": "stream",
     "text": [
      "Rate limit reached. Sleeping for: 344\n",
      "Rate limit reached. Sleeping for: 386\n",
      "Rate limit reached. Sleeping for: 340\n",
      "Rate limit reached. Sleeping for: 387\n",
      "Rate limit reached. Sleeping for: 331\n"
     ]
    },
    {
     "name": "stdout",
     "output_type": "stream",
     "text": [
      "25000\n"
     ]
    },
    {
     "name": "stderr",
     "output_type": "stream",
     "text": [
      "Rate limit reached. Sleeping for: 383\n",
      "Rate limit reached. Sleeping for: 415\n",
      "Rate limit reached. Sleeping for: 417\n",
      "Rate limit reached. Sleeping for: 271\n",
      "Rate limit reached. Sleeping for: 320\n",
      "Rate limit reached. Sleeping for: 267\n"
     ]
    },
    {
     "name": "stdout",
     "output_type": "stream",
     "text": [
      "30000\n"
     ]
    },
    {
     "name": "stderr",
     "output_type": "stream",
     "text": [
      "Rate limit reached. Sleeping for: 422\n",
      "Rate limit reached. Sleeping for: 407\n",
      "Rate limit reached. Sleeping for: 462\n",
      "Rate limit reached. Sleeping for: 341\n",
      "Rate limit reached. Sleeping for: 258\n"
     ]
    },
    {
     "name": "stdout",
     "output_type": "stream",
     "text": [
      "35000\n"
     ]
    },
    {
     "name": "stderr",
     "output_type": "stream",
     "text": [
      "Rate limit reached. Sleeping for: 342\n",
      "Rate limit reached. Sleeping for: 232\n",
      "Rate limit reached. Sleeping for: 206\n",
      "Rate limit reached. Sleeping for: 348\n",
      "Rate limit reached. Sleeping for: 234\n",
      "Rate limit reached. Sleeping for: 394\n"
     ]
    },
    {
     "name": "stdout",
     "output_type": "stream",
     "text": [
      "40000\n"
     ]
    },
    {
     "name": "stderr",
     "output_type": "stream",
     "text": [
      "Rate limit reached. Sleeping for: 425\n",
      "Rate limit reached. Sleeping for: 462\n",
      "Rate limit reached. Sleeping for: 424\n",
      "Rate limit reached. Sleeping for: 439\n",
      "Rate limit reached. Sleeping for: 383\n"
     ]
    },
    {
     "name": "stdout",
     "output_type": "stream",
     "text": [
      "45000\n"
     ]
    },
    {
     "name": "stderr",
     "output_type": "stream",
     "text": [
      "Rate limit reached. Sleeping for: 249\n",
      "Rate limit reached. Sleeping for: 325\n",
      "Rate limit reached. Sleeping for: 478\n",
      "Rate limit reached. Sleeping for: 500\n",
      "Rate limit reached. Sleeping for: 509\n",
      "Rate limit reached. Sleeping for: 472\n"
     ]
    },
    {
     "name": "stdout",
     "output_type": "stream",
     "text": [
      "50000\n"
     ]
    },
    {
     "name": "stderr",
     "output_type": "stream",
     "text": [
      "Rate limit reached. Sleeping for: 75\n",
      "Rate limit reached. Sleeping for: 111\n",
      "Rate limit reached. Sleeping for: 45\n",
      "Rate limit reached. Sleeping for: 524\n",
      "Rate limit reached. Sleeping for: 526\n"
     ]
    },
    {
     "name": "stdout",
     "output_type": "stream",
     "text": [
      "55000\n"
     ]
    },
    {
     "name": "stderr",
     "output_type": "stream",
     "text": [
      "Rate limit reached. Sleeping for: 531\n",
      "Rate limit reached. Sleeping for: 528\n",
      "Rate limit reached. Sleeping for: 526\n",
      "Rate limit reached. Sleeping for: 527\n",
      "Rate limit reached. Sleeping for: 531\n",
      "Rate limit reached. Sleeping for: 477\n"
     ]
    },
    {
     "name": "stdout",
     "output_type": "stream",
     "text": [
      "60000\n"
     ]
    },
    {
     "name": "stderr",
     "output_type": "stream",
     "text": [
      "Rate limit reached. Sleeping for: 526\n",
      "Rate limit reached. Sleeping for: 531\n",
      "Rate limit reached. Sleeping for: 535\n",
      "Rate limit reached. Sleeping for: 530\n",
      "Rate limit reached. Sleeping for: 526\n"
     ]
    },
    {
     "name": "stdout",
     "output_type": "stream",
     "text": [
      "65000\n"
     ]
    },
    {
     "name": "stderr",
     "output_type": "stream",
     "text": [
      "Rate limit reached. Sleeping for: 524\n",
      "Rate limit reached. Sleeping for: 531\n",
      "Rate limit reached. Sleeping for: 527\n",
      "Rate limit reached. Sleeping for: 526\n",
      "Rate limit reached. Sleeping for: 524\n",
      "Rate limit reached. Sleeping for: 527\n"
     ]
    },
    {
     "name": "stdout",
     "output_type": "stream",
     "text": [
      "70000\n"
     ]
    },
    {
     "name": "stderr",
     "output_type": "stream",
     "text": [
      "Rate limit reached. Sleeping for: 477\n",
      "Rate limit reached. Sleeping for: 464\n",
      "Rate limit reached. Sleeping for: 495\n",
      "Rate limit reached. Sleeping for: 465\n",
      "Rate limit reached. Sleeping for: 442\n"
     ]
    },
    {
     "name": "stdout",
     "output_type": "stream",
     "text": [
      "75000\n"
     ]
    },
    {
     "name": "stderr",
     "output_type": "stream",
     "text": [
      "Rate limit reached. Sleeping for: 460\n",
      "Rate limit reached. Sleeping for: 474\n",
      "Rate limit reached. Sleeping for: 350\n",
      "Rate limit reached. Sleeping for: 464\n",
      "Rate limit reached. Sleeping for: 109\n"
     ]
    },
    {
     "name": "stdout",
     "output_type": "stream",
     "text": [
      "80000\n"
     ]
    },
    {
     "name": "stderr",
     "output_type": "stream",
     "text": [
      "Rate limit reached. Sleeping for: 373\n",
      "Rate limit reached. Sleeping for: 379\n",
      "Rate limit reached. Sleeping for: 271\n"
     ]
    }
   ],
   "source": [
    "#Lista que guarda toda la informacion\n",
    "\n",
    "usuarios_encontrados=[]\n",
    "\n",
    "#COntador de archivos y de usuario en el for loop\n",
    "contador=0\n",
    "\n",
    "\n",
    "#dic excpeciones\n",
    "\n",
    "\n",
    "\n",
    "#una lista que se remplaza cada vez que hay un nuevo archivo creado\n",
    "guardar=[]\n",
    "\n",
    "#cada cuanto quiero que se guarden los users\n",
    "saving_tresh=5000\n",
    "\n",
    "\n",
    "#input de users para buscar\n",
    "lista_a_buscar=set_faltan\n",
    "\n",
    "largo=len(lista_a_buscar)\n",
    "\n",
    "for i in lista_a_buscar :\n",
    "    contador+=1 \n",
    "    try:\n",
    "        \n",
    "        #busqueda tweepy\n",
    "        dic_info=api3.get_user(i)._json\n",
    "        \n",
    "        \n",
    "        #append info in lists\n",
    "        informacion.append(dic_info)\n",
    "        guardar.append(dic_info)\n",
    "        \n",
    "        \n",
    "        #append id\n",
    "        usuarios_encontrados.append(i)\n",
    "        \n",
    "        \n",
    "        \n",
    "        \n",
    "        #si el numero de users cumple el tresh que quiero guardar\n",
    "        if contador%saving_tresh==0:\n",
    "                \n",
    "            print(contador)\n",
    "            \n",
    "            #cree el id\n",
    "            id_archivo+=100\n",
    "            \n",
    "            #cree el archivo y guardelo\n",
    "            archivo=\"./informacion_seguidores/info\" + str(id_archivo) +\".csv\"\n",
    "            datos=pd.DataFrame(guardar)\n",
    "            datos.to_csv(archivo, index=False)\n",
    "            \n",
    "            #vacie la lista y los datos por memoria\n",
    "            guardar=[]\n",
    "            datos=\"\"\n",
    "\n",
    "\n",
    "\n",
    "\n",
    "\n",
    "        faltan=largo-contador\n",
    "\n",
    "        \n",
    "        #si no faltan más usuarios Y el largo del input deja un remanente \n",
    "        if largo%saving_tresh==1 and faltan==0:\n",
    "            \n",
    "            #haga lo que ya hizo para los anteriores archivos \n",
    "            \n",
    "            \n",
    "            print(contador)\n",
    "            id_archivo+=100\n",
    "            archivo=\"./informacion_seguidores/info\" + str(id_archivo) +\".csv\"\n",
    "            datos=pd.DataFrame(guardar)\n",
    "            datos.to_csv(archivo, index=False)\n",
    "            guardar=[]\n",
    "            datos=\"\"\n",
    "\n",
    "    \n",
    "    except Exception as e:\n",
    "        exceptions2.append({\"id\":i, \"exception\":e, \"count\": contador})\n",
    "\n",
    "    \n",
    "    "
   ]
  },
  {
   "cell_type": "code",
   "execution_count": 42,
   "metadata": {},
   "outputs": [
    {
     "data": {
      "text/plain": [
       "2251"
      ]
     },
     "execution_count": 42,
     "metadata": {},
     "output_type": "execute_result"
    }
   ],
   "source": [
    "df=pd.DataFrame(guardar)\n",
    "len(guardar)"
   ]
  },
  {
   "cell_type": "code",
   "execution_count": 43,
   "metadata": {},
   "outputs": [],
   "source": [
    "df.to_csv(\"./informacion_seguidores/informacion4300.csv\",index=False)"
   ]
  },
  {
   "cell_type": "code",
   "execution_count": 44,
   "metadata": {},
   "outputs": [
    {
     "data": {
      "text/plain": [
       "485"
      ]
     },
     "execution_count": 44,
     "metadata": {},
     "output_type": "execute_result"
    }
   ],
   "source": [
    "exc=pd.DataFrame(exceptions2)\n",
    "len(exc)"
   ]
  },
  {
   "cell_type": "code",
   "execution_count": 14,
   "metadata": {},
   "outputs": [],
   "source": [
    "exc.to_csv(\"./informacion_seguidores/exc/exceptionsIMPORTANTE.csv\", index=False)"
   ]
  },
  {
   "cell_type": "code",
   "execution_count": 15,
   "metadata": {},
   "outputs": [],
   "source": [
    "import glob"
   ]
  },
  {
   "cell_type": "code",
   "execution_count": 29,
   "metadata": {},
   "outputs": [
    {
     "data": {
      "text/plain": [
       "36"
      ]
     },
     "execution_count": 29,
     "metadata": {},
     "output_type": "execute_result"
    }
   ],
   "source": [
    "files=glob.glob(\"./informacion_seguidores/*.csv\")\n",
    "len(files)"
   ]
  },
  {
   "cell_type": "code",
   "execution_count": 30,
   "metadata": {},
   "outputs": [
    {
     "data": {
      "text/plain": [
       "['./informacion_seguidores\\\\informacion1-10.csv',\n",
       " './informacion_seguidores\\\\informacion1000.csv',\n",
       " './informacion_seguidores\\\\informacion1100.csv',\n",
       " './informacion_seguidores\\\\informacion1200.csv',\n",
       " './informacion_seguidores\\\\informacion1300.csv',\n",
       " './informacion_seguidores\\\\informacion1400.csv',\n",
       " './informacion_seguidores\\\\informacion1500.csv',\n",
       " './informacion_seguidores\\\\informacion1600.csv',\n",
       " './informacion_seguidores\\\\informacion1700.csv',\n",
       " './informacion_seguidores\\\\informacion1800.csv',\n",
       " './informacion_seguidores\\\\informacion1900.csv',\n",
       " './informacion_seguidores\\\\informacion200.csv',\n",
       " './informacion_seguidores\\\\informacion2000.csv',\n",
       " './informacion_seguidores\\\\informacion200000.csv',\n",
       " './informacion_seguidores\\\\informacion2100.csv',\n",
       " './informacion_seguidores\\\\informacion2200.csv',\n",
       " './informacion_seguidores\\\\informacion2300.csv',\n",
       " './informacion_seguidores\\\\informacion2400.csv',\n",
       " './informacion_seguidores\\\\informacion2500.csv',\n",
       " './informacion_seguidores\\\\informacion300.csv',\n",
       " './informacion_seguidores\\\\informacion400.csv',\n",
       " './informacion_seguidores\\\\informacion500.csv',\n",
       " './informacion_seguidores\\\\informacion600.csv',\n",
       " './informacion_seguidores\\\\informacion700.csv',\n",
       " './informacion_seguidores\\\\informacion800.csv',\n",
       " './informacion_seguidores\\\\informacion900.csv']"
      ]
     },
     "execution_count": 30,
     "metadata": {},
     "output_type": "execute_result"
    }
   ],
   "source": [
    "new=[]\n",
    "for i in files:\n",
    "    if \"informacion_seguidores\\\\informacion\" in i: \n",
    "        new.append(i)\n",
    "new"
   ]
  },
  {
   "cell_type": "code",
   "execution_count": 31,
   "metadata": {},
   "outputs": [
    {
     "name": "stderr",
     "output_type": "stream",
     "text": [
      "C:\\Users\\juanj\\anaconda3\\lib\\site-packages\\IPython\\core\\interactiveshell.py:3165: DtypeWarning: Columns (36) have mixed types.Specify dtype option on import or set low_memory=False.\n",
      "  has_raised = await self.run_ast_nodes(code_ast.body, cell_name,\n"
     ]
    },
    {
     "data": {
      "text/html": [
       "<div>\n",
       "<style scoped>\n",
       "    .dataframe tbody tr th:only-of-type {\n",
       "        vertical-align: middle;\n",
       "    }\n",
       "\n",
       "    .dataframe tbody tr th {\n",
       "        vertical-align: top;\n",
       "    }\n",
       "\n",
       "    .dataframe thead th {\n",
       "        text-align: right;\n",
       "    }\n",
       "</style>\n",
       "<table border=\"1\" class=\"dataframe\">\n",
       "  <thead>\n",
       "    <tr style=\"text-align: right;\">\n",
       "      <th></th>\n",
       "      <th>Unnamed: 0</th>\n",
       "      <th>id</th>\n",
       "      <th>id_str</th>\n",
       "      <th>name</th>\n",
       "      <th>screen_name</th>\n",
       "      <th>location</th>\n",
       "      <th>profile_location</th>\n",
       "      <th>description</th>\n",
       "      <th>url</th>\n",
       "      <th>entities</th>\n",
       "      <th>...</th>\n",
       "      <th>profile_use_background_image</th>\n",
       "      <th>has_extended_profile</th>\n",
       "      <th>default_profile</th>\n",
       "      <th>default_profile_image</th>\n",
       "      <th>following</th>\n",
       "      <th>follow_request_sent</th>\n",
       "      <th>notifications</th>\n",
       "      <th>translator_type</th>\n",
       "      <th>withheld_in_countries</th>\n",
       "      <th>profile_banner_url</th>\n",
       "    </tr>\n",
       "  </thead>\n",
       "  <tbody>\n",
       "    <tr>\n",
       "      <th>0</th>\n",
       "      <td>0.0</td>\n",
       "      <td>1408613659472019456</td>\n",
       "      <td>1408613659472019456</td>\n",
       "      <td>William Reyes</td>\n",
       "      <td>William55979469</td>\n",
       "      <td>Villavicencio, Colombia</td>\n",
       "      <td>{'id': '011932b747a077bc', 'url': 'https://api...</td>\n",
       "      <td>Viviendo la vida .hincha de millonarios y barc...</td>\n",
       "      <td>NaN</td>\n",
       "      <td>{'description': {'urls': []}}</td>\n",
       "      <td>...</td>\n",
       "      <td>True</td>\n",
       "      <td>True</td>\n",
       "      <td>True</td>\n",
       "      <td>False</td>\n",
       "      <td>False</td>\n",
       "      <td>False</td>\n",
       "      <td>False</td>\n",
       "      <td>none</td>\n",
       "      <td>[]</td>\n",
       "      <td>NaN</td>\n",
       "    </tr>\n",
       "    <tr>\n",
       "      <th>1</th>\n",
       "      <td>1.0</td>\n",
       "      <td>1410394731864104968</td>\n",
       "      <td>1410394731864104968</td>\n",
       "      <td>Corporación MilVíctimas</td>\n",
       "      <td>VictimasMil</td>\n",
       "      <td>Colombia</td>\n",
       "      <td>NaN</td>\n",
       "      <td>Trabajamos por la defensa de los derechos y el...</td>\n",
       "      <td>https://t.co/tgsMgvBPo8</td>\n",
       "      <td>{'url': {'urls': [{'url': 'https://t.co/tgsMgv...</td>\n",
       "      <td>...</td>\n",
       "      <td>True</td>\n",
       "      <td>True</td>\n",
       "      <td>True</td>\n",
       "      <td>False</td>\n",
       "      <td>False</td>\n",
       "      <td>False</td>\n",
       "      <td>False</td>\n",
       "      <td>none</td>\n",
       "      <td>[]</td>\n",
       "      <td>https://pbs.twimg.com/profile_banners/14103947...</td>\n",
       "    </tr>\n",
       "    <tr>\n",
       "      <th>2</th>\n",
       "      <td>2.0</td>\n",
       "      <td>1410020231649574914</td>\n",
       "      <td>1410020231649574914</td>\n",
       "      <td>HELDA YANNETH BERNAL RINCÓN</td>\n",
       "      <td>HeldaBernal</td>\n",
       "      <td>NaN</td>\n",
       "      <td>NaN</td>\n",
       "      <td>Pasear</td>\n",
       "      <td>NaN</td>\n",
       "      <td>{'description': {'urls': []}}</td>\n",
       "      <td>...</td>\n",
       "      <td>True</td>\n",
       "      <td>True</td>\n",
       "      <td>True</td>\n",
       "      <td>False</td>\n",
       "      <td>False</td>\n",
       "      <td>False</td>\n",
       "      <td>False</td>\n",
       "      <td>none</td>\n",
       "      <td>[]</td>\n",
       "      <td>NaN</td>\n",
       "    </tr>\n",
       "    <tr>\n",
       "      <th>3</th>\n",
       "      <td>3.0</td>\n",
       "      <td>146269675</td>\n",
       "      <td>146269675</td>\n",
       "      <td>Claudia M Bustamante</td>\n",
       "      <td>cmbustamante</td>\n",
       "      <td>Orlando, FL</td>\n",
       "      <td>NaN</td>\n",
       "      <td>Cónsul general de Colombia 🇨🇴 en Orlando, Flor...</td>\n",
       "      <td>https://t.co/HY3jCOVnm3</td>\n",
       "      <td>{'url': {'urls': [{'url': 'https://t.co/HY3jCO...</td>\n",
       "      <td>...</td>\n",
       "      <td>True</td>\n",
       "      <td>False</td>\n",
       "      <td>False</td>\n",
       "      <td>False</td>\n",
       "      <td>False</td>\n",
       "      <td>False</td>\n",
       "      <td>False</td>\n",
       "      <td>regular</td>\n",
       "      <td>[]</td>\n",
       "      <td>https://pbs.twimg.com/profile_banners/14626967...</td>\n",
       "    </tr>\n",
       "    <tr>\n",
       "      <th>4</th>\n",
       "      <td>4.0</td>\n",
       "      <td>2982627832</td>\n",
       "      <td>2982627832</td>\n",
       "      <td>Sara Rey</td>\n",
       "      <td>sarareyco</td>\n",
       "      <td>NaN</td>\n",
       "      <td>NaN</td>\n",
       "      <td>Negociante Internacional, Esp. gestión y plani...</td>\n",
       "      <td>NaN</td>\n",
       "      <td>{'description': {'urls': []}}</td>\n",
       "      <td>...</td>\n",
       "      <td>True</td>\n",
       "      <td>False</td>\n",
       "      <td>True</td>\n",
       "      <td>False</td>\n",
       "      <td>False</td>\n",
       "      <td>False</td>\n",
       "      <td>False</td>\n",
       "      <td>none</td>\n",
       "      <td>[]</td>\n",
       "      <td>https://pbs.twimg.com/profile_banners/29826278...</td>\n",
       "    </tr>\n",
       "    <tr>\n",
       "      <th>...</th>\n",
       "      <td>...</td>\n",
       "      <td>...</td>\n",
       "      <td>...</td>\n",
       "      <td>...</td>\n",
       "      <td>...</td>\n",
       "      <td>...</td>\n",
       "      <td>...</td>\n",
       "      <td>...</td>\n",
       "      <td>...</td>\n",
       "      <td>...</td>\n",
       "      <td>...</td>\n",
       "      <td>...</td>\n",
       "      <td>...</td>\n",
       "      <td>...</td>\n",
       "      <td>...</td>\n",
       "      <td>...</td>\n",
       "      <td>...</td>\n",
       "      <td>...</td>\n",
       "      <td>...</td>\n",
       "      <td>...</td>\n",
       "      <td>...</td>\n",
       "    </tr>\n",
       "    <tr>\n",
       "      <th>4988</th>\n",
       "      <td>NaN</td>\n",
       "      <td>1389575684335493127</td>\n",
       "      <td>1389575684335493127</td>\n",
       "      <td>Maria Eugenia Bedoya</td>\n",
       "      <td>MariaEu77554841</td>\n",
       "      <td>NaN</td>\n",
       "      <td>NaN</td>\n",
       "      <td>NaN</td>\n",
       "      <td>NaN</td>\n",
       "      <td>{'description': {'urls': []}}</td>\n",
       "      <td>...</td>\n",
       "      <td>True</td>\n",
       "      <td>True</td>\n",
       "      <td>True</td>\n",
       "      <td>True</td>\n",
       "      <td>False</td>\n",
       "      <td>False</td>\n",
       "      <td>False</td>\n",
       "      <td>none</td>\n",
       "      <td>[]</td>\n",
       "      <td>NaN</td>\n",
       "    </tr>\n",
       "    <tr>\n",
       "      <th>4989</th>\n",
       "      <td>NaN</td>\n",
       "      <td>1219989011697143810</td>\n",
       "      <td>1219989011697143810</td>\n",
       "      <td>Ole Sinisterra</td>\n",
       "      <td>OleSinisterra</td>\n",
       "      <td>NaN</td>\n",
       "      <td>NaN</td>\n",
       "      <td>NaN</td>\n",
       "      <td>NaN</td>\n",
       "      <td>{'description': {'urls': []}}</td>\n",
       "      <td>...</td>\n",
       "      <td>True</td>\n",
       "      <td>False</td>\n",
       "      <td>True</td>\n",
       "      <td>True</td>\n",
       "      <td>False</td>\n",
       "      <td>False</td>\n",
       "      <td>False</td>\n",
       "      <td>none</td>\n",
       "      <td>[]</td>\n",
       "      <td>NaN</td>\n",
       "    </tr>\n",
       "    <tr>\n",
       "      <th>4990</th>\n",
       "      <td>NaN</td>\n",
       "      <td>1250536373913862145</td>\n",
       "      <td>1250536373913862145</td>\n",
       "      <td>Salo</td>\n",
       "      <td>Salomon66189725</td>\n",
       "      <td>Barranquilla</td>\n",
       "      <td>NaN</td>\n",
       "      <td>Desempleado</td>\n",
       "      <td>NaN</td>\n",
       "      <td>{'description': {'urls': []}}</td>\n",
       "      <td>...</td>\n",
       "      <td>True</td>\n",
       "      <td>False</td>\n",
       "      <td>True</td>\n",
       "      <td>False</td>\n",
       "      <td>False</td>\n",
       "      <td>False</td>\n",
       "      <td>False</td>\n",
       "      <td>none</td>\n",
       "      <td>[]</td>\n",
       "      <td>NaN</td>\n",
       "    </tr>\n",
       "    <tr>\n",
       "      <th>4991</th>\n",
       "      <td>NaN</td>\n",
       "      <td>1235279359667208193</td>\n",
       "      <td>1235279359667208193</td>\n",
       "      <td>Nerón Navarrete</td>\n",
       "      <td>NernNavarrete2</td>\n",
       "      <td>NaN</td>\n",
       "      <td>NaN</td>\n",
       "      <td>\"Me gusta Todo Regalado\"</td>\n",
       "      <td>NaN</td>\n",
       "      <td>{'description': {'urls': []}}</td>\n",
       "      <td>...</td>\n",
       "      <td>True</td>\n",
       "      <td>False</td>\n",
       "      <td>True</td>\n",
       "      <td>False</td>\n",
       "      <td>False</td>\n",
       "      <td>False</td>\n",
       "      <td>False</td>\n",
       "      <td>none</td>\n",
       "      <td>[]</td>\n",
       "      <td>NaN</td>\n",
       "    </tr>\n",
       "    <tr>\n",
       "      <th>4992</th>\n",
       "      <td>NaN</td>\n",
       "      <td>1409918863744045061</td>\n",
       "      <td>1409918863744045061</td>\n",
       "      <td>Elías Palomeque</td>\n",
       "      <td>EliasPalomeque</td>\n",
       "      <td>Colombia</td>\n",
       "      <td>{'id': '0639360bd49a15e3', 'url': 'https://api...</td>\n",
       "      <td>Libre pensamiento, hincha Americano, garra, em...</td>\n",
       "      <td>NaN</td>\n",
       "      <td>{'description': {'urls': []}}</td>\n",
       "      <td>...</td>\n",
       "      <td>True</td>\n",
       "      <td>True</td>\n",
       "      <td>True</td>\n",
       "      <td>False</td>\n",
       "      <td>False</td>\n",
       "      <td>False</td>\n",
       "      <td>False</td>\n",
       "      <td>none</td>\n",
       "      <td>[]</td>\n",
       "      <td>https://pbs.twimg.com/profile_banners/14099188...</td>\n",
       "    </tr>\n",
       "  </tbody>\n",
       "</table>\n",
       "<p>317281 rows × 46 columns</p>\n",
       "</div>"
      ],
      "text/plain": [
       "      Unnamed: 0                   id               id_str  \\\n",
       "0            0.0  1408613659472019456  1408613659472019456   \n",
       "1            1.0  1410394731864104968  1410394731864104968   \n",
       "2            2.0  1410020231649574914  1410020231649574914   \n",
       "3            3.0            146269675            146269675   \n",
       "4            4.0           2982627832           2982627832   \n",
       "...          ...                  ...                  ...   \n",
       "4988         NaN  1389575684335493127  1389575684335493127   \n",
       "4989         NaN  1219989011697143810  1219989011697143810   \n",
       "4990         NaN  1250536373913862145  1250536373913862145   \n",
       "4991         NaN  1235279359667208193  1235279359667208193   \n",
       "4992         NaN  1409918863744045061  1409918863744045061   \n",
       "\n",
       "                             name      screen_name                 location  \\\n",
       "0                   William Reyes  William55979469  Villavicencio, Colombia   \n",
       "1         Corporación MilVíctimas      VictimasMil                 Colombia   \n",
       "2     HELDA YANNETH BERNAL RINCÓN      HeldaBernal                      NaN   \n",
       "3            Claudia M Bustamante     cmbustamante              Orlando, FL   \n",
       "4                        Sara Rey        sarareyco                      NaN   \n",
       "...                           ...              ...                      ...   \n",
       "4988         Maria Eugenia Bedoya  MariaEu77554841                      NaN   \n",
       "4989               Ole Sinisterra    OleSinisterra                      NaN   \n",
       "4990                         Salo  Salomon66189725             Barranquilla   \n",
       "4991              Nerón Navarrete   NernNavarrete2                      NaN   \n",
       "4992              Elías Palomeque   EliasPalomeque                 Colombia   \n",
       "\n",
       "                                       profile_location  \\\n",
       "0     {'id': '011932b747a077bc', 'url': 'https://api...   \n",
       "1                                                   NaN   \n",
       "2                                                   NaN   \n",
       "3                                                   NaN   \n",
       "4                                                   NaN   \n",
       "...                                                 ...   \n",
       "4988                                                NaN   \n",
       "4989                                                NaN   \n",
       "4990                                                NaN   \n",
       "4991                                                NaN   \n",
       "4992  {'id': '0639360bd49a15e3', 'url': 'https://api...   \n",
       "\n",
       "                                            description  \\\n",
       "0     Viviendo la vida .hincha de millonarios y barc...   \n",
       "1     Trabajamos por la defensa de los derechos y el...   \n",
       "2                                                Pasear   \n",
       "3     Cónsul general de Colombia 🇨🇴 en Orlando, Flor...   \n",
       "4     Negociante Internacional, Esp. gestión y plani...   \n",
       "...                                                 ...   \n",
       "4988                                                NaN   \n",
       "4989                                                NaN   \n",
       "4990                                        Desempleado   \n",
       "4991                           \"Me gusta Todo Regalado\"   \n",
       "4992  Libre pensamiento, hincha Americano, garra, em...   \n",
       "\n",
       "                          url  \\\n",
       "0                         NaN   \n",
       "1     https://t.co/tgsMgvBPo8   \n",
       "2                         NaN   \n",
       "3     https://t.co/HY3jCOVnm3   \n",
       "4                         NaN   \n",
       "...                       ...   \n",
       "4988                      NaN   \n",
       "4989                      NaN   \n",
       "4990                      NaN   \n",
       "4991                      NaN   \n",
       "4992                      NaN   \n",
       "\n",
       "                                               entities  ...  \\\n",
       "0                         {'description': {'urls': []}}  ...   \n",
       "1     {'url': {'urls': [{'url': 'https://t.co/tgsMgv...  ...   \n",
       "2                         {'description': {'urls': []}}  ...   \n",
       "3     {'url': {'urls': [{'url': 'https://t.co/HY3jCO...  ...   \n",
       "4                         {'description': {'urls': []}}  ...   \n",
       "...                                                 ...  ...   \n",
       "4988                      {'description': {'urls': []}}  ...   \n",
       "4989                      {'description': {'urls': []}}  ...   \n",
       "4990                      {'description': {'urls': []}}  ...   \n",
       "4991                      {'description': {'urls': []}}  ...   \n",
       "4992                      {'description': {'urls': []}}  ...   \n",
       "\n",
       "      profile_use_background_image  has_extended_profile  default_profile  \\\n",
       "0                             True                  True             True   \n",
       "1                             True                  True             True   \n",
       "2                             True                  True             True   \n",
       "3                             True                 False            False   \n",
       "4                             True                 False             True   \n",
       "...                            ...                   ...              ...   \n",
       "4988                          True                  True             True   \n",
       "4989                          True                 False             True   \n",
       "4990                          True                 False             True   \n",
       "4991                          True                 False             True   \n",
       "4992                          True                  True             True   \n",
       "\n",
       "      default_profile_image following  follow_request_sent  notifications  \\\n",
       "0                     False     False                False          False   \n",
       "1                     False     False                False          False   \n",
       "2                     False     False                False          False   \n",
       "3                     False     False                False          False   \n",
       "4                     False     False                False          False   \n",
       "...                     ...       ...                  ...            ...   \n",
       "4988                   True     False                False          False   \n",
       "4989                   True     False                False          False   \n",
       "4990                  False     False                False          False   \n",
       "4991                  False     False                False          False   \n",
       "4992                  False     False                False          False   \n",
       "\n",
       "      translator_type  withheld_in_countries  \\\n",
       "0                none                     []   \n",
       "1                none                     []   \n",
       "2                none                     []   \n",
       "3             regular                     []   \n",
       "4                none                     []   \n",
       "...               ...                    ...   \n",
       "4988             none                     []   \n",
       "4989             none                     []   \n",
       "4990             none                     []   \n",
       "4991             none                     []   \n",
       "4992             none                     []   \n",
       "\n",
       "                                     profile_banner_url  \n",
       "0                                                   NaN  \n",
       "1     https://pbs.twimg.com/profile_banners/14103947...  \n",
       "2                                                   NaN  \n",
       "3     https://pbs.twimg.com/profile_banners/14626967...  \n",
       "4     https://pbs.twimg.com/profile_banners/29826278...  \n",
       "...                                                 ...  \n",
       "4988                                                NaN  \n",
       "4989                                                NaN  \n",
       "4990                                                NaN  \n",
       "4991                                                NaN  \n",
       "4992  https://pbs.twimg.com/profile_banners/14099188...  \n",
       "\n",
       "[317281 rows x 46 columns]"
      ]
     },
     "execution_count": 31,
     "metadata": {},
     "output_type": "execute_result"
    }
   ],
   "source": [
    "datos=pd.read_csv(new[0])\n",
    "for i in new[1:]:\n",
    "    \n",
    "    d=pd.read_csv(i)\n",
    "    \n",
    "    datos=pd.concat([datos,d])\n",
    "datos"
   ]
  },
  {
   "cell_type": "code",
   "execution_count": 37,
   "metadata": {},
   "outputs": [],
   "source": [
    "del datos"
   ]
  },
  {
   "cell_type": "code",
   "execution_count": 35,
   "metadata": {},
   "outputs": [
    {
     "name": "stdout",
     "output_type": "stream",
     "text": [
      "389683 307423\n"
     ]
    }
   ],
   "source": [
    "usuarios_listos=list(datos[\"id\"])\n",
    "\n",
    "set_users=set(usuarios)\n",
    "set_listos=set(usuarios_listos)\n",
    "print(len(set_users),len(set_listos))"
   ]
  },
  {
   "cell_type": "code",
   "execution_count": 36,
   "metadata": {},
   "outputs": [
    {
     "data": {
      "text/plain": [
       "82260"
      ]
     },
     "execution_count": 36,
     "metadata": {},
     "output_type": "execute_result"
    }
   ],
   "source": [
    "set_faltan=set_users-set_listos\n",
    "set_faltan=list(set_faltan)\n",
    "len(set_faltan)"
   ]
  },
  {
   "cell_type": "code",
   "execution_count": 39,
   "metadata": {},
   "outputs": [],
   "source": [
    "f = open(\"./pickle/seguidoresQUEfaltan_04_08.pkl\",\"wb\")\n",
    "pickle.dump(set_faltan,f)\n",
    "f.close()"
   ]
  }
 ],
 "metadata": {
  "kernelspec": {
   "display_name": "Python 3",
   "language": "python",
   "name": "python3"
  },
  "language_info": {
   "codemirror_mode": {
    "name": "ipython",
    "version": 3
   },
   "file_extension": ".py",
   "mimetype": "text/x-python",
   "name": "python",
   "nbconvert_exporter": "python",
   "pygments_lexer": "ipython3",
   "version": "3.8.8"
  }
 },
 "nbformat": 4,
 "nbformat_minor": 2
}
